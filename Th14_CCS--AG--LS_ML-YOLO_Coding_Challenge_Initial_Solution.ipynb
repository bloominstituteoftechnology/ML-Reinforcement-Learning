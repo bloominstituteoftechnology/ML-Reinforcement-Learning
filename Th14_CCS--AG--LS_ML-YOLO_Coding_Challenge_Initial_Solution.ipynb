{
  "nbformat": 4,
  "nbformat_minor": 0,
  "metadata": {
    "colab": {
      "name": "Th14_CCS--AG--LS_ML-YOLO_Coding_Challenge_Initial_Solution",
      "version": "0.3.2",
      "provenance": [],
      "collapsed_sections": [],
      "include_colab_link": true
    },
    "kernelspec": {
      "name": "python3",
      "display_name": "Python 3"
    }
  },
  "cells": [
    {
      "cell_type": "markdown",
      "metadata": {
        "id": "view-in-github",
        "colab_type": "text"
      },
      "source": [
        "[View in Colaboratory](https://colab.research.google.com/github/schwaaweb/ML-Reinforcement-Learning/blob/master/Th14_CCS--AG--LS_ML-YOLO_Coding_Challenge_Initial_Solution.ipynb)"
      ]
    },
    {
      "metadata": {
        "id": "MLV5UA4VmsCD",
        "colab_type": "text"
      },
      "cell_type": "markdown",
      "source": [
        "https://github.com/LambdaSchool/ML-YouOnlyLookOnce"
      ]
    },
    {
      "metadata": {
        "id": "xkjeQUlum2Io",
        "colab_type": "code",
        "colab": {
          "base_uri": "https://localhost:8080/",
          "height": 250
        },
        "outputId": "825a7f7f-95f9-4461-ff8b-b8509e4542d2"
      },
      "cell_type": "code",
      "source": [
        "!wget -nc https://raw.githubusercontent.com/LambdaSchool/ML-YouOnlyLookOnce/master/sample_data/positive_examples/example2.jpeg\n",
        "!wget -nc https://jamiekang.github.io/media/2017-06-18-you-only-look-once-unified-real-time-object-detection-fig6.jpg\n",
        "!wget -nc https://steemitimages.com/DQmYCgREYk4FaLrDFaVWrMx9sFtzVC5L2emaE6fnKgumB6s/BBD03455-9D66-4485-BD1A-FC073D1BE994.jpeg\n",
        "!ls\n",
        "  \n",
        "import numpy as np\n",
        "\n",
        "from keras.applications.resnet50 import ResNet50\n",
        "from keras.preprocessing import image\n",
        "from keras.applications.resnet50 import preprocess_input, decode_predictions\n",
        "\n",
        "def process_img_path(img_path):\n",
        "  return image.load_img(img_path, target_size=(224, 224))\n",
        "\n",
        "def img_contains_banana(img):\n",
        "  x = image.img_to_array(img)\n",
        "  x = np.expand_dims(x, axis=0)\n",
        "  x = preprocess_input(x)\n",
        "  model = ResNet50(weights='imagenet')\n",
        "  features = model.predict(x)\n",
        "  results = decode_predictions(features, top=3)[0]\n",
        "  print(results)\n",
        "  for entry in results:\n",
        "    if entry[1] == 'banana':\n",
        "      return entry[2]\n",
        "  return 0.0\n",
        "\n",
        "if __name__ == '__main__':\n",
        "  # test_path = 'example2.jpeg'\n",
        "  # test_path = '2017-06-18-you-only-look-once-unified-real-time-object-detection-fig6.jpg'\n",
        "  test_path = 'BBD03455-9D66-4485-BD1A-FC073D1BE994.jpeg'\n",
        "  test_img = process_img_path(test_path)\n",
        "  test_result = img_contains_banana(test_img)\n",
        "\n",
        "print('Banana confidence = {}'.format(test_result))"
      ],
      "execution_count": 0,
      "outputs": [
        {
          "output_type": "stream",
          "text": [
            "File ‘example2.jpeg’ already there; not retrieving.\r\n",
            "\n",
            "File ‘2017-06-18-you-only-look-once-unified-real-time-object-detection-fig6.jpg’ already there; not retrieving.\n",
            "\n",
            "File ‘BBD03455-9D66-4485-BD1A-FC073D1BE994.jpeg’ already there; not retrieving.\n",
            "\n",
            "2017-06-18-you-only-look-once-unified-real-time-object-detection-fig6.jpg\n",
            "BBD03455-9D66-4485-BD1A-FC073D1BE994.jpeg\n",
            "datalab\n",
            "example2.jpeg\n",
            "[('n06359193', 'web_site', 0.1720544), ('n07753592', 'banana', 0.06160033), ('n02708093', 'analog_clock', 0.060977757)]\n",
            "Banana confidence = 0.06160033121705055\n"
          ],
          "name": "stdout"
        }
      ]
    },
    {
      "metadata": {
        "id": "VN_if2RVn4YY",
        "colab_type": "code",
        "colab": {}
      },
      "cell_type": "code",
      "source": [
        ""
      ],
      "execution_count": 0,
      "outputs": []
    }
  ]
}