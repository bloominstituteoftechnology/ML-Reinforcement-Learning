{
 "cells": [
  {
   "cell_type": "markdown",
   "metadata": {},
   "source": [
    "The coding challenge went well in general.\n",
    "\n",
    "It took some work to figure out the details of how to make Docker works on Windows 10.\n",
    "\n",
    "Mostly firewall issues and when to use either git bash or powershell.\n",
    "\n",
    "I guess by know I am confortable using it, and I will be going for the strech goal."
   ]
  },
  {
   "cell_type": "code",
   "execution_count": null,
   "metadata": {},
   "outputs": [],
   "source": []
  }
 ],
 "metadata": {
  "kernelspec": {
   "display_name": "Python 3",
   "language": "python",
   "name": "python3"
  },
  "language_info": {
   "codemirror_mode": {
    "name": "ipython",
    "version": 3
   },
   "file_extension": ".py",
   "mimetype": "text/x-python",
   "name": "python",
   "nbconvert_exporter": "python",
   "pygments_lexer": "ipython3",
   "version": "3.6.6"
  }
 },
 "nbformat": 4,
 "nbformat_minor": 2
}
