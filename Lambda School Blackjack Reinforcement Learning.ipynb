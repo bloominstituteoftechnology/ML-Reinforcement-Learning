{
 "cells": [
  {
   "cell_type": "code",
   "execution_count": 1,
   "metadata": {},
   "outputs": [],
   "source": [
    "import gym\n",
    "import numpy as np\n",
    "import random\n",
    "from collections import defaultdict"
   ]
  },
  {
   "cell_type": "code",
   "execution_count": 2,
   "metadata": {},
   "outputs": [
    {
     "name": "stdout",
     "output_type": "stream",
     "text": [
      "Tuple(Discrete(32), Discrete(11), Discrete(2))\n",
      "Discrete(2)\n"
     ]
    },
    {
     "name": "stderr",
     "output_type": "stream",
     "text": [
      "/Users/darwinm/Documents/LambdaSchool/14/gym/gym/__init__.py:22: UserWarning: DEPRECATION WARNING: to improve load times, gym no longer automatically loads gym.spaces. Please run \"import gym.spaces\" to load gym.spaces on your own. This warning will turn into an error in a future version of gym.\n",
      "  warnings.warn('DEPRECATION WARNING: to improve load times, gym no longer automatically loads gym.spaces. Please run \"import gym.spaces\" to load gym.spaces on your own. This warning will turn into an error in a future version of gym.')\n"
     ]
    }
   ],
   "source": [
    "# https://github.com/openai/gym/blob/master/gym/envs/toy_text/blackjack.py\n",
    "env = gym.make('Blackjack-v0')\n",
    "print(env.observation_space)\n",
    "print(env.action_space)"
   ]
  },
  {
   "cell_type": "code",
   "execution_count": 3,
   "metadata": {},
   "outputs": [],
   "source": [
    "qtable = np.zeros((32, 11, 2, 2))\n",
    "# print(qtable)\n",
    "qtable_dict = defaultdict(lambda: np.zeros(2))  # array of actions\n",
    "\n",
    "def qtable_func(state):\n",
    "    # TODO: magic! This is a non-functional example\n",
    "    return np.array([0.5, 0])"
   ]
  },
  {
   "cell_type": "code",
   "execution_count": 4,
   "metadata": {},
   "outputs": [],
   "source": [
    "total_episodes = 100000       # Total episodes\n",
    "learning_rate = 0.6           # Learning rate\n",
    "max_steps = 99                # Max steps per episode\n",
    "gamma = 0.99                  # Discounting rate\n",
    "\n",
    "# Exploration parameters\n",
    "epsilon = 1.0                 # Exploration rate\n",
    "max_epsilon = 1.0             # Exploration probability at start\n",
    "min_epsilon = 0.01            # Minimum exploration probability \n",
    "decay_rate = 0.01             # Exponential decay rate for exploration prob"
   ]
  },
  {
   "cell_type": "code",
   "execution_count": 5,
   "metadata": {},
   "outputs": [
    {
     "name": "stdout",
     "output_type": "stream",
     "text": [
      "Score over time: -0.17282\n"
     ]
    }
   ],
   "source": [
    "# List of rewards\n",
    "rewards = []\n",
    "\n",
    "# Learn through the episodes\n",
    "for episode in range(total_episodes):\n",
    "    # Reset the environment\n",
    "    state = env.reset()\n",
    "    done = False\n",
    "    total_rewards = 0\n",
    "    \n",
    "    for step in range(max_steps):\n",
    "        player_total = state[0]\n",
    "        dealer_showing = state[1]\n",
    "        has_ace = 1 if state[2] else 0\n",
    "        \n",
    "        # Action selection - decide if we explore or exploit\n",
    "        if random.uniform(0, 1) < epsilon:\n",
    "            # Time to explore!\n",
    "            action = env.action_space.sample()\n",
    "        else:\n",
    "            # Exploit based on best available rewards\n",
    "            # action = np.argmax(qtable_dict[state])\n",
    "            action = np.argmax(qtable[player_total,\n",
    "                                      dealer_showing,\n",
    "                                      has_ace, :])\n",
    "        \n",
    "        # Take the action, observe the outcome and reward\n",
    "        new_state, reward, done, info = env.step(action)\n",
    "        \n",
    "        \n",
    "        # Update Q(s,a):= Q(s,a) + lr [R(s,a) + gamma * max Q(s',a') - Q(s,a)]\n",
    "        # qtable[new_state,:] : all the actions we can take from new state\n",
    "        qtable[player_total,\n",
    "               dealer_showing,\n",
    "               has_ace,\n",
    "               action] = (qtable[player_total,\n",
    "                                 dealer_showing,\n",
    "                                 has_ace,\n",
    "                                 action] +\n",
    "                          learning_rate *\n",
    "                          (reward + gamma *\n",
    "                           np.max(qtable[new_state[0], new_state[1], 1 if new_state[2] else 0, :]) -\n",
    "                           qtable[player_total, dealer_showing, has_ace, action]))\n",
    "        \n",
    "        \n",
    "        # Update the qtable with new expected rewards\n",
    "        # qtable_dict[state][action] += (learning_rate *\n",
    "        #                                (reward + gamma *\n",
    "        #                                 (np.max(qtable_dict[new_state]) -\n",
    "        #                                  np.max(qtable_dict[state]))))\n",
    "        \n",
    "        \n",
    "        total_rewards += reward\n",
    "        state = new_state\n",
    "        if done:\n",
    "            break\n",
    "    \n",
    "    # Reduce epsilon (explore less)\n",
    "    epsilon = (min_epsilon +\n",
    "               (max_epsilon - min_epsilon) * np.exp(-decay_rate * episode))\n",
    "    rewards.append(total_rewards)\n",
    "\n",
    "print('Score over time:', sum(rewards) / total_episodes)"
   ]
  },
  {
   "cell_type": "code",
   "execution_count": 6,
   "metadata": {},
   "outputs": [
    {
     "name": "stdout",
     "output_type": "stream",
     "text": [
      "Score over time: -0.39921\n"
     ]
    }
   ],
   "source": [
    "# Blackjack is hard (even optimum loses money)\n",
    "# How do we compare to random?\n",
    "\n",
    "# List of rewards\n",
    "rewards = []\n",
    "\n",
    "# Learn through the episodes\n",
    "for episode in range(total_episodes):\n",
    "    # Reset the environment\n",
    "    state = env.reset()\n",
    "    done = False\n",
    "    total_rewards = 0\n",
    "    \n",
    "    for step in range(max_steps):\n",
    "        # Action selection - always random\n",
    "        action = env.action_space.sample()\n",
    "        \n",
    "        # Take the action, observe the outcome and reward\n",
    "        new_state, reward, done, info = env.step(action)\n",
    "              \n",
    "        total_rewards += reward\n",
    "        state = new_state\n",
    "        if done:\n",
    "            break\n",
    "    \n",
    "    rewards.append(total_rewards)\n",
    "\n",
    "print('Score over time:', sum(rewards) / total_episodes)"
   ]
  },
  {
   "cell_type": "code",
   "execution_count": 7,
   "metadata": {
    "scrolled": true
   },
   "outputs": [
    {
     "name": "stdout",
     "output_type": "stream",
     "text": [
      "****************************************************\n",
      "HAND 0\n",
      "---\n",
      "Player sum: 14\n",
      "Dealer showing: 10\n",
      "Player has usable ace: False\n",
      "Stay.\n",
      "HAND DONE\n",
      "You win!\n",
      "****************************************************\n",
      "HAND 1\n",
      "---\n",
      "Player sum: 6\n",
      "Dealer showing: 2\n",
      "Player has usable ace: False\n",
      "Stay.\n",
      "HAND DONE\n",
      "You win!\n",
      "****************************************************\n",
      "HAND 2\n",
      "---\n",
      "Player sum: 5\n",
      "Dealer showing: 7\n",
      "Player has usable ace: False\n",
      "Stay.\n",
      "HAND DONE\n",
      "You lose!\n",
      "****************************************************\n",
      "HAND 3\n",
      "---\n",
      "Player sum: 17\n",
      "Dealer showing: 9\n",
      "Player has usable ace: False\n",
      "Stay.\n",
      "HAND DONE\n",
      "You win!\n",
      "****************************************************\n",
      "HAND 4\n",
      "---\n",
      "Player sum: 19\n",
      "Dealer showing: 9\n",
      "Player has usable ace: False\n",
      "Stay.\n",
      "HAND DONE\n",
      "You win!\n",
      "****************************************************\n",
      "ALL HANDS COMPLETE\n",
      "Total score: 3.0\n",
      "Average per hand: 0.6\n"
     ]
    }
   ],
   "source": [
    "# So we're about twice as good (or half as bad) as random\n",
    "# Let's play Blackjack!\n",
    "def print_state(state):\n",
    "    print('---')\n",
    "    print('Player sum:', state[0])\n",
    "    print('Dealer showing:', state[1])\n",
    "    print('Player has usable ace:', state[2])\n",
    "\n",
    "rewards = 0\n",
    "hands = 5\n",
    "\n",
    "for hand in range(hands):\n",
    "    state = env.reset()\n",
    "    print('****************************************************')\n",
    "    print('HAND', hand)\n",
    "    \n",
    "    for step in range(max_steps):\n",
    "        print_state(state)\n",
    "        # Take the action with max expected future reward\n",
    "        action = np.argmax(qtable_dict[state])\n",
    "        \n",
    "        print('Hit me!' if action else 'Stay.')\n",
    "        \n",
    "        state, reward, done, info = env.step(action)\n",
    "        \n",
    "        if done:\n",
    "            rewards += reward\n",
    "            print('HAND DONE')\n",
    "            if reward == 1.0:\n",
    "                print('You win!')\n",
    "            elif reward == 0.0:\n",
    "                print('Draw.')\n",
    "            else:\n",
    "                print('You lose!')\n",
    "            break\n",
    "\n",
    "print('****************************************************')\n",
    "print('ALL HANDS COMPLETE')\n",
    "print('Total score:', rewards)\n",
    "print('Average per hand:', rewards / hands)\n",
    "env.close()"
   ]
  },
  {
   "cell_type": "code",
   "execution_count": 8,
   "metadata": {},
   "outputs": [
    {
     "data": {
      "text/plain": [
       "defaultdict(<function __main__.<lambda>>,\n",
       "            {(5, 7, False): array([0., 0.]),\n",
       "             (6, 2, False): array([0., 0.]),\n",
       "             (14, 10, False): array([0., 0.]),\n",
       "             (17, 9, False): array([0., 0.]),\n",
       "             (19, 9, False): array([0., 0.])})"
      ]
     },
     "execution_count": 8,
     "metadata": {},
     "output_type": "execute_result"
    }
   ],
   "source": [
    "qtable_dict"
   ]
  },
  {
   "cell_type": "code",
   "execution_count": 9,
   "metadata": {},
   "outputs": [
    {
     "data": {
      "text/plain": [
       "array([-1.22109747,  1.19625313])"
      ]
     },
     "execution_count": 9,
     "metadata": {},
     "output_type": "execute_result"
    }
   ],
   "source": [
    "qtable[18, 10, 0, :]"
   ]
  },
  {
   "cell_type": "code",
   "execution_count": null,
   "metadata": {},
   "outputs": [],
   "source": []
  }
 ],
 "metadata": {
  "kernelspec": {
   "display_name": "Python 3",
   "language": "python",
   "name": "python3"
  },
  "language_info": {
   "codemirror_mode": {
    "name": "ipython",
    "version": 3
   },
   "file_extension": ".py",
   "mimetype": "text/x-python",
   "name": "python",
   "nbconvert_exporter": "python",
   "pygments_lexer": "ipython3",
   "version": "3.6.4"
  },
  "toc": {
   "base_numbering": 1,
   "nav_menu": {},
   "number_sections": true,
   "sideBar": true,
   "skip_h1_title": false,
   "title_cell": "Table of Contents",
   "title_sidebar": "Contents",
   "toc_cell": false,
   "toc_position": {},
   "toc_section_display": true,
   "toc_window_display": false
  }
 },
 "nbformat": 4,
 "nbformat_minor": 2
}
