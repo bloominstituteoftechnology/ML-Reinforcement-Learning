{
 "cells": [
  {
   "cell_type": "markdown",
   "metadata": {},
   "source": [
    "# Reinforcement Learning - Assignment\n",
    "\n",
    "*Work in progress - please check back for updates.*"
   ]
  },
  {
   "cell_type": "code",
   "execution_count": 2,
   "metadata": {},
   "outputs": [],
   "source": [
    "import gym\n",
    "import numpy as np\n",
    "import matplotlib.pyplot as plt\n",
    "import seaborn as sns\n",
    "\n",
    "np.set_printoptions(precision=3, suppress=True)\n",
    "sns.set_style('ticks', {'axes.grid': True, 'grid.color': '.7', 'grid.linestyle': u'--'})\n",
    "sns.set_palette('colorblind')\n",
    "sns.set_context('talk')"
   ]
  },
  {
   "cell_type": "markdown",
   "metadata": {},
   "source": [
    "## Part 1 - Improve Cart-Pole\n",
    "\n",
    "If you've not already, complete through goal 2 of [Coding Challenge 1](../cc1/).\n",
    "The first part of the assignment is to improve the policy for the agent that is\n",
    "trying to keep the pole upright on the cart in the notebook\n",
    "[16_reinforcement_learning.ipynb](https://github.com/ageron/handson-ml/blob/master/16_reinforcement_learning.ipynb).\n",
    "Read the notebook through `A simple hard-coded policy`, and then add your own\n",
    "code (in your local Docker-powered environment) to try to do better.\n",
    "\n",
    "As noted, the main problem with the simple approach is that it ends up moving\n",
    "the cart too abruptly and losing stability. You can refer to the later sections\n",
    "of the notebook for some hints on ways to improve with various techniques, but\n",
    "your goal here is to write your own code leveraging knowledge from the various\n",
    "resources you have available.\n",
    "\n",
    "Please turn in an updated notebook with your strategy, as well as text in the\n",
    "notebook describing it and its performance."
   ]
  },
  {
   "cell_type": "code",
   "execution_count": 2,
   "metadata": {},
   "outputs": [
    {
     "name": "stdout",
     "output_type": "stream",
     "text": [
      "\u001b[33mWARN: gym.spaces.Box autodetected dtype as <class 'numpy.float32'>. Please provide explicit dtype.\u001b[0m\n"
     ]
    }
   ],
   "source": [
    "import gym\n",
    "env = gym.make(\"CartPole-v0\")\n",
    "reward_history = []\n",
    "  \n",
    "for episode in range(10000):\n",
    "  observation = env.reset()\n",
    "  total_reward = 0\n",
    "  for step in range(500):\n",
    "    #env.render()\n",
    "    if observation[2] < 0:\n",
    "      action = 0\n",
    "    else:\n",
    "      action = 1\n",
    "    observation, reward, done, info = env.step(action)\n",
    "    total_reward += reward\n",
    "    if done: break\n",
    "  reward_history.append(total_reward)\n",
    "env.close();"
   ]
  },
  {
   "cell_type": "code",
   "execution_count": 3,
   "metadata": {},
   "outputs": [
    {
     "data": {
      "image/png": "[encoded data removed]",
      "text/plain": [
       "<Figure size 432x288 with 1 Axes>"
      ]
     },
     "metadata": {},
     "output_type": "display_data"
    }
   ],
   "source": [
    "plt.hist(reward_history, bins=50);"
   ]
  },
  {
   "cell_type": "code",
   "execution_count": 2,
   "metadata": {},
   "outputs": [],
   "source": [
    "import gym\n",
    "import numpy as np\n",
    "import torch\n",
    "import torch.nn as nn\n",
    "import torch.distributions as distributions\n",
    "import torch.optim\n",
    "from collections import OrderedDict\n",
    "\n",
    "class CartAgent():\n",
    "  def __init__(self, env):\n",
    "    self.env = env\n",
    "    self.network = nn.Sequential(\n",
    "      nn.Linear(self.env.observation_space.shape[0] + 1, 5),\n",
    "      nn.Tanh(),\n",
    "      nn.Linear(5, 1),\n",
    "      nn.Sigmoid(),\n",
    "    )\n",
    "    for m in self.network.modules():\n",
    "      if isinstance(m, nn.Linear):\n",
    "        nn.init.constant_(m.weight, 0)\n",
    "        nn.init.constant_(m.bias, 0)\n",
    "    self.best_reward = 0\n",
    "    self.best_weights = self.network.state_dict()\n",
    "    \n",
    "  def shift_weights(self, std):\n",
    "    normal = distributions.Normal(0, std)\n",
    "    self.network.load_state_dict(OrderedDict([(op_name, tensor+normal.sample(tensor.shape)) for \n",
    "                                              op_name, tensor in self.best_weights.items()]))\n",
    "    \n",
    "  def begin_episode(self):\n",
    "    self.time_step = 0\n",
    "    return self.env.reset()\n",
    "    \n",
    "  def evaluate_action(self, observation):\n",
    "    self.time_step += 1\n",
    "    observation = torch.tensor(np.hstack((observation, [self.time_step])), dtype=torch.float32)\n",
    "    return round(self.network(observation).item())\n",
    "\n",
    "  def evaluate_final_reward(self, reward, verbose=False):\n",
    "    if reward > self.best_reward:\n",
    "      if verbose: print(reward)\n",
    "      self.best_reward = reward\n",
    "      self.best_weights = self.network.state_dict()\n",
    "    #self.env.close()"
   ]
  },
  {
   "cell_type": "code",
   "execution_count": 3,
   "metadata": {},
   "outputs": [
    {
     "name": "stdout",
     "output_type": "stream",
     "text": [
      "\u001b[33mWARN: gym.spaces.Box autodetected dtype as <class 'numpy.float32'>. Please provide explicit dtype.\u001b[0m\n"
     ]
    }
   ],
   "source": [
    "agent = CartAgent(gym.make('CartPole-v0'))"
   ]
  },
  {
   "cell_type": "code",
   "execution_count": 7,
   "metadata": {},
   "outputs": [
    {
     "name": "stdout",
     "output_type": "stream",
     "text": [
      "\u001b[33mWARN: gym.spaces.Box autodetected dtype as <class 'numpy.float32'>. Please provide explicit dtype.\u001b[0m\n",
      "run: 500 -- best reward: 130.0\n",
      "run: 1000 -- best reward: 130.0\n",
      "run: 1500 -- best reward: 130.0\n",
      "run: 2000 -- best reward: 130.0\n",
      "run: 2500 -- best reward: 130.0\n",
      "run: 3000 -- best reward: 130.0\n",
      "run: 3500 -- best reward: 130.0\n",
      "run: 4000 -- best reward: 130.0\n",
      "run: 4500 -- best reward: 130.0\n",
      "run: 5000 -- best reward: 130.0\n",
      "run: 5500 -- best reward: 130.0\n",
      "run: 6000 -- best reward: 130.0\n",
      "run: 6500 -- best reward: 130.0\n",
      "run: 7000 -- best reward: 130.0\n",
      "run: 7500 -- best reward: 130.0\n",
      "run: 8000 -- best reward: 130.0\n",
      "run: 8500 -- best reward: 130.0\n",
      "run: 9000 -- best reward: 130.0\n",
      "run: 9500 -- best reward: 130.0\n"
     ]
    }
   ],
   "source": [
    "agent.env = gym.make('CartPole-v0')\n",
    "agent.env.seed(0)\n",
    "for episode in range(10000):\n",
    "  agent.shift_weights(.1)\n",
    "  total_reward = 0\n",
    "  for _ in range(5):\n",
    "    observation = agent.begin_episode()\n",
    "    for _ in range(500):\n",
    "      #agent.env.render()\n",
    "      observation, reward, done, info = agent.env.step(agent.evaluate_action(observation))\n",
    "      total_reward += reward\n",
    "      if done: break\n",
    "  agent.evaluate_final_reward(total_reward)\n",
    "  if episode % 500 == 0 and episode != 0: print(f'run: {episode} -- best reward: {agent.best_reward / 5}')\n",
    "agent.env.close()"
   ]
  },
  {
   "cell_type": "code",
   "execution_count": 5,
   "metadata": {},
   "outputs": [
    {
     "name": "stdout",
     "output_type": "stream",
     "text": [
      "\u001b[33mWARN: gym.spaces.Box autodetected dtype as <class 'numpy.float32'>. Please provide explicit dtype.\u001b[0m\n"
     ]
    }
   ],
   "source": [
    "agent.env = gym.make('CartPole-v0')\n",
    "for episode in range(100):\n",
    "  agent.shift_weights(0.0)\n",
    "  observation = agent.begin_episode()\n",
    "  total_reward = 0\n",
    "  for step in range(500):\n",
    "    agent.env.render()\n",
    "    observation, reward, done, info = agent.env.step(agent.evaluate_action(observation))\n",
    "    total_reward += reward\n",
    "    if done: break\n",
    "  agent.evaluate_final_reward(total_reward, True)\n",
    "  if episode % 100 == 0 and episode != 0: print(f'run: {episode} -- best reward: {agent.best_reward}')\n",
    "agent.env.close()"
   ]
  },
  {
   "cell_type": "code",
   "execution_count": 21,
   "metadata": {},
   "outputs": [],
   "source": [
    "import torch\n",
    "import torch.nn as nn\n",
    "import torch.optim as optim\n",
    "import torch.functional as F\n",
    "import random\n",
    "import gym\n",
    "\n",
    "class CartAgentDeepQ():\n",
    "  def __init__(self, environment, gamma_discont=.9, max_steps=2500):\n",
    "    self.network = self.spawn_network()\n",
    "    self.max_steps=max_steps\n",
    "    self.memory_capacity = 10000\n",
    "    self.memory_position = 0\n",
    "    self.memory_buffer = []\n",
    "    \n",
    "  def push_memory(self, memory):\n",
    "    if len(self.memory_buffer) < self.memory_capacity:\n",
    "      self.memory_buffer.append(None)\n",
    "    self.memory_buffer[self.memory_position] = memory\n",
    "    self.memory_position = (self.memory_position + 1) % self.memory_capacity\n",
    "  \n",
    "  def spawn_network(self, hidden_dim=6):\n",
    "    return nn.Sequential(\n",
    "      nn.Linear(4, hidden_dim),\n",
    "      nn.ELU(),\n",
    "      nn.Linear(hidden_dim, hidden_dim),\n",
    "      nn.ELU(),\n",
    "      nn.Linear(hidden_dim, 2),\n",
    "    )\n",
    "\n",
    "  def get_action(self, observation, eps_threshold):\n",
    "    if random.sample() > eps_threshold:\n",
    "      return network(observation.unsqueeze(0)).max(1)[1].cpu()\n",
    "    else:\n",
    "      return round(random.sample())\n",
    "      \n",
    "  \n",
    "  def spawn_env(self):\n",
    "    return gym.make('CartPole-v0')\n",
    "  \n",
    "  def train_episodes(self, seed=None):\n",
    "    env = spawn_env()\n",
    "    train_episode\n",
    "    \n",
    "    \n",
    "  def train_episode(self, env, seed=None, render=False):\n",
    "    if seed is not None: env.seed(seed)\n",
    "    obs = env.reset()\n",
    "    for step in range(self.max_steps):\n",
    "      \n",
    "      obs, reward, done, _ = obs.step()\n",
    "      if done: break   "
   ]
  },
  {
   "cell_type": "code",
   "execution_count": 16,
   "metadata": {},
   "outputs": [],
   "source": [
    "agent = CartAgentDeepQ()"
   ]
  }
 ],
 "metadata": {
  "kernelspec": {
   "display_name": "Python 3",
   "language": "python",
   "name": "python3"
  },
  "language_info": {
   "codemirror_mode": {
    "name": "ipython",
    "version": 3
   },
   "file_extension": ".py",
   "mimetype": "text/x-python",
   "name": "python",
   "nbconvert_exporter": "python",
   "pygments_lexer": "ipython3",
   "version": "3.6.5"
  }
 },
 "nbformat": 4,
 "nbformat_minor": 2
}
