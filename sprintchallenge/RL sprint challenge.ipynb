{
 "cells": [
  {
   "cell_type": "code",
   "execution_count": 143,
   "metadata": {},
   "outputs": [],
   "source": [
    "import torch\n",
    "import torch.nn as nn\n",
    "import torch.optim as optim\n",
    "import torch.nn.functional as F\n",
    "import numpy as np\n",
    "import random\n",
    "import gym\n",
    "from tqdm import tqdm_notebook\n",
    "\n",
    "class DeepQNet(nn.Module):\n",
    "  def __init__(self, in_dim, hidden_dim, out_dim, batch_size, device):\n",
    "    super(DeepQNet, self).__init__()\n",
    "    self.embedding = nn.Embedding(in_dim, hidden_dim)\n",
    "    self.model = nn.Sequential(\n",
    "      nn.Linear(hidden_dim, hidden_dim),\n",
    "      nn.ReLU(),\n",
    "      nn.Linear(hidden_dim, hidden_dim),\n",
    "      nn.ReLU(),\n",
    "      nn.Linear(hidden_dim, out_dim),\n",
    "    )\n",
    "    \n",
    "  def forward(self, x):\n",
    "    return self.model(self.embedding(x))\n",
    "\n",
    "class TaxiDeepQ():\n",
    "  def __init__(self, learning_rate=.001, gamma=.99, tau=.001, batch_size=128, max_steps=2500, memory_capacity=100000):\n",
    "    self.gamma = gamma\n",
    "    self.tau = tau\n",
    "    self.batch_size = batch_size\n",
    "    self.max_steps=max_steps\n",
    "    self.memory_position = 0\n",
    "    self.memory_capacity = memory_capacity\n",
    "    self.memory_buffer = []\n",
    "    self.update_step = 8\n",
    "    self.device = torch.device(\"cuda:0\" if torch.cuda.is_available() else \"cpu\")\n",
    "    self.action_network = self.spawn_network().to(self.device)\n",
    "    self.target_network = self.spawn_network().to(self.device)\n",
    "    self.optimizer = optim.Adam(self.action_network.parameters(), learning_rate)\n",
    "    \n",
    "  def push_memory(self, memory):\n",
    "    '''memory = (observation, next_observation, action, reward, done)'''\n",
    "    if len(self.memory_buffer) < self.memory_capacity:\n",
    "      self.memory_buffer.append(None)\n",
    "    self.memory_buffer[self.memory_position] = memory\n",
    "    self.memory_position = (self.memory_position + 1) % self.memory_capacity\n",
    "    \n",
    "  def get_memory_batch(self):\n",
    "    obs, next_obs, action, reward, done = zip(*random.sample(self.memory_buffer, k=self.batch_size))\n",
    "    return {\n",
    "      'observation':torch.tensor(np.vstack(obs), dtype=torch.long),\n",
    "      'next_observation':torch.tensor(np.vstack(next_obs), dtype=torch.long),\n",
    "      'action':torch.tensor(np.vstack(action), dtype=torch.long),\n",
    "      'reward':torch.tensor(np.vstack(reward), dtype=torch.float32),\n",
    "      'done':torch.tensor(np.vstack(done).astype(np.float32), dtype=torch.float32),\n",
    "    }\n",
    "    \n",
    "  \n",
    "  def spawn_network(self):\n",
    "    return DeepQNet(in_dim=500, hidden_dim=128, out_dim=6, batch_size=self.batch_size, device=self.device)\n",
    "\n",
    "  def try_network_update(self):\n",
    "    if len(self.memory_buffer) > self.batch_size:\n",
    "      obs, next_obs, action, reward, done = map(lambda tensor: tensor.to(self.device), self.get_memory_batch().values())\n",
    "      q_targets_next = self.target_network(next_obs).detach().max(1)[0].unsqueeze(1)\n",
    "      q_targets = reward + (self.gamma * q_targets_next * (1 - done))\n",
    "      q_expected = self.action_network(obs)\n",
    "      print(q_expected.shape)\n",
    "      print(action.shape)\n",
    "      q_expected = q_expected.gather(1, action)\n",
    "\n",
    "      loss = F.mse_loss(q_expected, q_targets)\n",
    "      self.optimizer.zero_grad()\n",
    "      loss.backward()\n",
    "      self.optimizer.step()\n",
    "\n",
    "      self.update_target_network()  \n",
    "  \n",
    "  def update_target_network(self):\n",
    "    for target_param, action_param in zip(self.target_network.parameters(), self.action_network.parameters()):\n",
    "      target_param.data.copy_(self.tau*action_param.data + (1.0-self.tau)*target_param.data)\n",
    "  \n",
    "  def get_action(self, observation, eps):\n",
    "    if random.random() > eps:\n",
    "      with torch.no_grad(): \n",
    "        state_input = torch.tensor(observation, dtype=torch.long).to(self.device)\n",
    "        return np.argmax(self.action_network(state_input).squeeze().cpu().numpy())\n",
    "    else:\n",
    "      return np.random.randint(0, 5)\n",
    "      \n",
    "  def spawn_env(self):\n",
    "    return gym.make('Taxi-v2')\n",
    "  \n",
    "  def run_episodes(self, episodes=1, eps_range=(1, 0), seed=None, render=False):\n",
    "    env = self.spawn_env()\n",
    "    for e in tqdm_notebook(range(episodes), desc='Episodes'):\n",
    "      lerp = e / max(1, (episodes-1))\n",
    "      eps = (1 - lerp) * eps_range[0] + lerp * eps_range[1]\n",
    "      self.run_episode(env, eps, seed, render)\n",
    "    env.close()\n",
    "    \n",
    "  def run_episode(self, env, eps, seed=None, render=False):\n",
    "    env.seed(seed)\n",
    "    obs = env.reset()\n",
    "    for step in range(self.max_steps):\n",
    "      if render: env.render()\n",
    "      action = self.get_action(obs, eps)\n",
    "      new_obs, reward, done, _ = env.step(action)\n",
    "      self.push_memory((obs, new_obs, action, reward, done))\n",
    "      self.try_network_update()\n",
    "      self.update_step += 1\n",
    "      if done: break"
   ]
  },
  {
   "cell_type": "code",
   "execution_count": 144,
   "metadata": {},
   "outputs": [],
   "source": [
    "agent = TaxiDeepQ(tau=.01, max_steps=500)"
   ]
  },
  {
   "cell_type": "code",
   "execution_count": 145,
   "metadata": {},
   "outputs": [
    {
     "data": {
      "application/vnd.jupyter.widget-view+json": {
       "model_id": "489ea5efe3684560b3c8c2fd077cc09e",
       "version_major": 2,
       "version_minor": 0
      },
      "text/plain": [
       "HBox(children=(IntProgress(value=0, description='Episodes', max=250), HTML(value='')))"
      ]
     },
     "metadata": {},
     "output_type": "display_data"
    },
    {
     "name": "stdout",
     "output_type": "stream",
     "text": [
      "torch.Size([128, 1, 6])\n",
      "torch.Size([128, 1])\n"
     ]
    },
    {
     "ename": "RuntimeError",
     "evalue": "invalid argument 4: Index tensor must have same dimensions as input tensor at c:\\programdata\\miniconda3\\conda-bld\\pytorch_1524549877902\\work\\aten\\src\\thc\\generic/THCTensorScatterGather.cu:16",
     "output_type": "error",
     "traceback": [
      "\u001b[1;31m---------------------------------------------------------------------------\u001b[0m",
      "\u001b[1;31mRuntimeError\u001b[0m                              Traceback (most recent call last)",
      "\u001b[1;32m<ipython-input-145-1ae0b722a25c>\u001b[0m in \u001b[0;36m<module>\u001b[1;34m()\u001b[0m\n\u001b[1;32m----> 1\u001b[1;33m \u001b[0magent\u001b[0m\u001b[1;33m.\u001b[0m\u001b[0mrun_episodes\u001b[0m\u001b[1;33m(\u001b[0m\u001b[1;36m250\u001b[0m\u001b[1;33m,\u001b[0m \u001b[0meps_range\u001b[0m\u001b[1;33m=\u001b[0m\u001b[1;33m(\u001b[0m\u001b[1;36m1\u001b[0m\u001b[1;33m,\u001b[0m \u001b[1;36m.05\u001b[0m\u001b[1;33m)\u001b[0m\u001b[1;33m)\u001b[0m\u001b[1;33m\u001b[0m\u001b[0m\n\u001b[0m",
      "\u001b[1;32m<ipython-input-143-5929d7f5d328>\u001b[0m in \u001b[0;36mrun_episodes\u001b[1;34m(self, episodes, eps_range, seed, render)\u001b[0m\n\u001b[0;32m     96\u001b[0m       \u001b[0mlerp\u001b[0m \u001b[1;33m=\u001b[0m \u001b[0me\u001b[0m \u001b[1;33m/\u001b[0m \u001b[0mmax\u001b[0m\u001b[1;33m(\u001b[0m\u001b[1;36m1\u001b[0m\u001b[1;33m,\u001b[0m \u001b[1;33m(\u001b[0m\u001b[0mepisodes\u001b[0m\u001b[1;33m-\u001b[0m\u001b[1;36m1\u001b[0m\u001b[1;33m)\u001b[0m\u001b[1;33m)\u001b[0m\u001b[1;33m\u001b[0m\u001b[0m\n\u001b[0;32m     97\u001b[0m       \u001b[0meps\u001b[0m \u001b[1;33m=\u001b[0m \u001b[1;33m(\u001b[0m\u001b[1;36m1\u001b[0m \u001b[1;33m-\u001b[0m \u001b[0mlerp\u001b[0m\u001b[1;33m)\u001b[0m \u001b[1;33m*\u001b[0m \u001b[0meps_range\u001b[0m\u001b[1;33m[\u001b[0m\u001b[1;36m0\u001b[0m\u001b[1;33m]\u001b[0m \u001b[1;33m+\u001b[0m \u001b[0mlerp\u001b[0m \u001b[1;33m*\u001b[0m \u001b[0meps_range\u001b[0m\u001b[1;33m[\u001b[0m\u001b[1;36m1\u001b[0m\u001b[1;33m]\u001b[0m\u001b[1;33m\u001b[0m\u001b[0m\n\u001b[1;32m---> 98\u001b[1;33m       \u001b[0mself\u001b[0m\u001b[1;33m.\u001b[0m\u001b[0mrun_episode\u001b[0m\u001b[1;33m(\u001b[0m\u001b[0menv\u001b[0m\u001b[1;33m,\u001b[0m \u001b[0meps\u001b[0m\u001b[1;33m,\u001b[0m \u001b[0mseed\u001b[0m\u001b[1;33m,\u001b[0m \u001b[0mrender\u001b[0m\u001b[1;33m)\u001b[0m\u001b[1;33m\u001b[0m\u001b[0m\n\u001b[0m\u001b[0;32m     99\u001b[0m     \u001b[0menv\u001b[0m\u001b[1;33m.\u001b[0m\u001b[0mclose\u001b[0m\u001b[1;33m(\u001b[0m\u001b[1;33m)\u001b[0m\u001b[1;33m\u001b[0m\u001b[0m\n\u001b[0;32m    100\u001b[0m \u001b[1;33m\u001b[0m\u001b[0m\n",
      "\u001b[1;32m<ipython-input-143-5929d7f5d328>\u001b[0m in \u001b[0;36mrun_episode\u001b[1;34m(self, env, eps, seed, render)\u001b[0m\n\u001b[0;32m    107\u001b[0m       \u001b[0mnew_obs\u001b[0m\u001b[1;33m,\u001b[0m \u001b[0mreward\u001b[0m\u001b[1;33m,\u001b[0m \u001b[0mdone\u001b[0m\u001b[1;33m,\u001b[0m \u001b[0m_\u001b[0m \u001b[1;33m=\u001b[0m \u001b[0menv\u001b[0m\u001b[1;33m.\u001b[0m\u001b[0mstep\u001b[0m\u001b[1;33m(\u001b[0m\u001b[0maction\u001b[0m\u001b[1;33m)\u001b[0m\u001b[1;33m\u001b[0m\u001b[0m\n\u001b[0;32m    108\u001b[0m       \u001b[0mself\u001b[0m\u001b[1;33m.\u001b[0m\u001b[0mpush_memory\u001b[0m\u001b[1;33m(\u001b[0m\u001b[1;33m(\u001b[0m\u001b[0mobs\u001b[0m\u001b[1;33m,\u001b[0m \u001b[0mnew_obs\u001b[0m\u001b[1;33m,\u001b[0m \u001b[0maction\u001b[0m\u001b[1;33m,\u001b[0m \u001b[0mreward\u001b[0m\u001b[1;33m,\u001b[0m \u001b[0mdone\u001b[0m\u001b[1;33m)\u001b[0m\u001b[1;33m)\u001b[0m\u001b[1;33m\u001b[0m\u001b[0m\n\u001b[1;32m--> 109\u001b[1;33m       \u001b[0mself\u001b[0m\u001b[1;33m.\u001b[0m\u001b[0mtry_network_update\u001b[0m\u001b[1;33m(\u001b[0m\u001b[1;33m)\u001b[0m\u001b[1;33m\u001b[0m\u001b[0m\n\u001b[0m\u001b[0;32m    110\u001b[0m       \u001b[0mself\u001b[0m\u001b[1;33m.\u001b[0m\u001b[0mupdate_step\u001b[0m \u001b[1;33m+=\u001b[0m \u001b[1;36m1\u001b[0m\u001b[1;33m\u001b[0m\u001b[0m\n\u001b[0;32m    111\u001b[0m       \u001b[1;32mif\u001b[0m \u001b[0mdone\u001b[0m\u001b[1;33m:\u001b[0m \u001b[1;32mbreak\u001b[0m\u001b[1;33m\u001b[0m\u001b[0m\n",
      "\u001b[1;32m<ipython-input-143-5929d7f5d328>\u001b[0m in \u001b[0;36mtry_network_update\u001b[1;34m(self)\u001b[0m\n\u001b[0;32m     67\u001b[0m       \u001b[0mprint\u001b[0m\u001b[1;33m(\u001b[0m\u001b[0mq_expected\u001b[0m\u001b[1;33m.\u001b[0m\u001b[0mshape\u001b[0m\u001b[1;33m)\u001b[0m\u001b[1;33m\u001b[0m\u001b[0m\n\u001b[0;32m     68\u001b[0m       \u001b[0mprint\u001b[0m\u001b[1;33m(\u001b[0m\u001b[0maction\u001b[0m\u001b[1;33m.\u001b[0m\u001b[0mshape\u001b[0m\u001b[1;33m)\u001b[0m\u001b[1;33m\u001b[0m\u001b[0m\n\u001b[1;32m---> 69\u001b[1;33m       \u001b[0mq_expected\u001b[0m \u001b[1;33m=\u001b[0m \u001b[0mq_expected\u001b[0m\u001b[1;33m.\u001b[0m\u001b[0mgather\u001b[0m\u001b[1;33m(\u001b[0m\u001b[1;36m1\u001b[0m\u001b[1;33m,\u001b[0m \u001b[0maction\u001b[0m\u001b[1;33m)\u001b[0m\u001b[1;33m\u001b[0m\u001b[0m\n\u001b[0m\u001b[0;32m     70\u001b[0m \u001b[1;33m\u001b[0m\u001b[0m\n\u001b[0;32m     71\u001b[0m       \u001b[0mloss\u001b[0m \u001b[1;33m=\u001b[0m \u001b[0mF\u001b[0m\u001b[1;33m.\u001b[0m\u001b[0mmse_loss\u001b[0m\u001b[1;33m(\u001b[0m\u001b[0mq_expected\u001b[0m\u001b[1;33m,\u001b[0m \u001b[0mq_targets\u001b[0m\u001b[1;33m)\u001b[0m\u001b[1;33m\u001b[0m\u001b[0m\n",
      "\u001b[1;31mRuntimeError\u001b[0m: invalid argument 4: Index tensor must have same dimensions as input tensor at c:\\programdata\\miniconda3\\conda-bld\\pytorch_1524549877902\\work\\aten\\src\\thc\\generic/THCTensorScatterGather.cu:16"
     ]
    }
   ],
   "source": [
    "agent.run_episodes(250, eps_range=(1, .05))"
   ]
  },
  {
   "cell_type": "code",
   "execution_count": null,
   "metadata": {},
   "outputs": [],
   "source": []
  }
 ],
 "metadata": {
  "kernelspec": {
   "display_name": "Python 3",
   "language": "python",
   "name": "python3"
  },
  "language_info": {
   "codemirror_mode": {
    "name": "ipython",
    "version": 3
   },
   "file_extension": ".py",
   "mimetype": "text/x-python",
   "name": "python",
   "nbconvert_exporter": "python",
   "pygments_lexer": "ipython3",
   "version": "3.6.5"
  }
 },
 "nbformat": 4,
 "nbformat_minor": 2
}
